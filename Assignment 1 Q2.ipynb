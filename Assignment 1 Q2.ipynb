{
 "cells": [
  {
   "cell_type": "markdown",
   "id": "19336ef9",
   "metadata": {},
   "source": [
    "# Assignment 1."
   ]
  },
  {
   "cell_type": "code",
   "execution_count": 15,
   "id": "f8ac8325",
   "metadata": {},
   "outputs": [],
   "source": [
    "import numpy as np\n",
    "\n",
    "arr = np.array([1, 2, 3, 4, 5, 6, 7, 8, 9, 10])\n",
    "\n"
   ]
  },
  {
   "cell_type": "code",
   "execution_count": 16,
   "id": "5e76645a",
   "metadata": {},
   "outputs": [
    {
     "name": "stdout",
     "output_type": "stream",
     "text": [
      "Absolute values: [ 1  2  3  4  5  6  7  8  9 10]\n"
     ]
    }
   ],
   "source": [
    "# 1. Compute the absolute values element-wise\n",
    "result1 = np.abs(arr)\n",
    "print(\"Absolute values:\", result1)\n",
    "\n"
   ]
  },
  {
   "cell_type": "code",
   "execution_count": 17,
   "id": "91d25d11",
   "metadata": {},
   "outputs": [
    {
     "name": "stdout",
     "output_type": "stream",
     "text": [
      "Square roots: [1.         1.41421356 1.73205081 2.         2.23606798 2.44948974\n",
      " 2.64575131 2.82842712 3.         3.16227766]\n"
     ]
    }
   ],
   "source": [
    "# 2. Compute the square root of each element\n",
    "result2 = np.sqrt(arr)\n",
    "print(\"Square roots:\", result2)\n"
   ]
  },
  {
   "cell_type": "code",
   "execution_count": 18,
   "id": "1b6d8b91",
   "metadata": {},
   "outputs": [
    {
     "name": "stdout",
     "output_type": "stream",
     "text": [
      "Exponentials: [2.71828183e+00 7.38905610e+00 2.00855369e+01 5.45981500e+01\n",
      " 1.48413159e+02 4.03428793e+02 1.09663316e+03 2.98095799e+03\n",
      " 8.10308393e+03 2.20264658e+04]\n"
     ]
    }
   ],
   "source": [
    "# 3. Compute the exponential of each element\n",
    "result3 = np.exp(arr)\n",
    "print(\"Exponentials:\", result3)\n",
    "\n"
   ]
  },
  {
   "cell_type": "code",
   "execution_count": 19,
   "id": "8eda5205",
   "metadata": {},
   "outputs": [
    {
     "name": "stdout",
     "output_type": "stream",
     "text": [
      "Natural logarithms: [0.         0.69314718 1.09861229 1.38629436 1.60943791 1.79175947\n",
      " 1.94591015 2.07944154 2.19722458 2.30258509]\n"
     ]
    }
   ],
   "source": [
    "# 4. Compute the natural logarithm of each element\n",
    "result4 = np.log(arr)\n",
    "print(\"Natural logarithms:\", result4)\n",
    "\n"
   ]
  },
  {
   "cell_type": "code",
   "execution_count": 20,
   "id": "e32a44d5",
   "metadata": {},
   "outputs": [
    {
     "name": "stdout",
     "output_type": "stream",
     "text": [
      "Base-10 logarithms: [0.         0.30103    0.47712125 0.60205999 0.69897    0.77815125\n",
      " 0.84509804 0.90308999 0.95424251 1.        ]\n"
     ]
    }
   ],
   "source": [
    "# 5. Compute the base-10 logarithm of each element\n",
    "result5 = np.log10(arr)\n",
    "print(\"Base-10 logarithms:\", result5)\n",
    "\n"
   ]
  },
  {
   "cell_type": "code",
   "execution_count": 21,
   "id": "0e290e97",
   "metadata": {},
   "outputs": [
    {
     "name": "stdout",
     "output_type": "stream",
     "text": [
      "Sines: [ 0.84147098  0.90929743  0.14112001 -0.7568025  -0.95892427 -0.2794155\n",
      "  0.6569866   0.98935825  0.41211849 -0.54402111]\n"
     ]
    }
   ],
   "source": [
    "# 6. Compute the sine of each element\n",
    "result6 = np.sin(arr)\n",
    "print(\"Sines:\", result6)\n",
    "\n"
   ]
  },
  {
   "cell_type": "code",
   "execution_count": 22,
   "id": "1915c8c9",
   "metadata": {},
   "outputs": [
    {
     "name": "stdout",
     "output_type": "stream",
     "text": [
      "Cosines: [ 0.54030231 -0.41614684 -0.9899925  -0.65364362  0.28366219  0.96017029\n",
      "  0.75390225 -0.14550003 -0.91113026 -0.83907153]\n"
     ]
    }
   ],
   "source": [
    "# 7. Compute the cosine of each element\n",
    "result7 = np.cos(arr)\n",
    "print(\"Cosines:\", result7)\n",
    "\n"
   ]
  },
  {
   "cell_type": "code",
   "execution_count": 23,
   "id": "aa33a7b0",
   "metadata": {},
   "outputs": [
    {
     "name": "stdout",
     "output_type": "stream",
     "text": [
      "Tangents: [ 1.55740772 -2.18503986 -0.14254654  1.15782128 -3.38051501 -0.29100619\n",
      "  0.87144798 -6.79971146 -0.45231566  0.64836083]\n"
     ]
    }
   ],
   "source": [
    "# 8. Compute the tangent of each element\n",
    "result8 = np.tan(arr)\n",
    "print(\"Tangents:\", result8)\n",
    "\n"
   ]
  },
  {
   "cell_type": "code",
   "execution_count": 25,
   "id": "3521d7dd",
   "metadata": {},
   "outputs": [
    {
     "name": "stdout",
     "output_type": "stream",
     "text": [
      "Inverse sines: [[0.52359878 0.41151685 0.30469265]\n",
      " [0.7753975  1.11976951 1.57079633]]\n"
     ]
    }
   ],
   "source": [
    "# 9. Compute the inverse sine of each element\n",
    "a=np.array([[0.5,0.4,0.3],[0.7,0.9,1]])\n",
    "result9 = np.arcsin(a)\n",
    "print(\"Inverse sines:\", result9)\n",
    "\n"
   ]
  },
  {
   "cell_type": "code",
   "execution_count": 27,
   "id": "24fe2a06",
   "metadata": {},
   "outputs": [
    {
     "name": "stdout",
     "output_type": "stream",
     "text": [
      "Inverse cosines: [[1.04719755 1.15927948 1.26610367]\n",
      " [0.79539883 0.45102681 0.        ]]\n"
     ]
    }
   ],
   "source": [
    "# 10. Compute the inverse cosine of each element\n",
    "result10 = np.arccos(a)\n",
    "print(\"Inverse cosines:\", result10)\n"
   ]
  },
  {
   "cell_type": "code",
   "execution_count": 28,
   "id": "5147a067",
   "metadata": {},
   "outputs": [
    {
     "name": "stdout",
     "output_type": "stream",
     "text": [
      "Inverse tangents: [0.78539816 1.10714872 1.24904577 1.32581766 1.37340077 1.40564765\n",
      " 1.42889927 1.44644133 1.46013911 1.47112767]\n"
     ]
    }
   ],
   "source": [
    "# 11. Compute the inverse tangent of each element\n",
    "result11 = np.arctan(arr)\n",
    "print(\"Inverse tangents:\", result11)\n",
    "\n"
   ]
  },
  {
   "cell_type": "code",
   "execution_count": 29,
   "id": "7481aca2",
   "metadata": {},
   "outputs": [
    {
     "name": "stdout",
     "output_type": "stream",
     "text": [
      "Hyperbolic sines: [1.17520119e+00 3.62686041e+00 1.00178749e+01 2.72899172e+01\n",
      " 7.42032106e+01 2.01713157e+02 5.48316123e+02 1.49047883e+03\n",
      " 4.05154190e+03 1.10132329e+04]\n"
     ]
    }
   ],
   "source": [
    "# 12. Compute the hyperbolic sine of each element\n",
    "result12 = np.sinh(arr)\n",
    "print(\"Hyperbolic sines:\", result12)\n"
   ]
  },
  {
   "cell_type": "code",
   "execution_count": 30,
   "id": "90d8e33d",
   "metadata": {},
   "outputs": [
    {
     "name": "stdout",
     "output_type": "stream",
     "text": [
      "Hyperbolic cosines: [1.54308063e+00 3.76219569e+00 1.00676620e+01 2.73082328e+01\n",
      " 7.42099485e+01 2.01715636e+02 5.48317035e+02 1.49047916e+03\n",
      " 4.05154203e+03 1.10132329e+04]\n"
     ]
    }
   ],
   "source": [
    "# 13. Compute the hyperbolic cosine of each element\n",
    "result13 = np.cosh(arr)\n",
    "print(\"Hyperbolic cosines:\", result13)\n"
   ]
  },
  {
   "cell_type": "code",
   "execution_count": 31,
   "id": "52448151",
   "metadata": {},
   "outputs": [
    {
     "name": "stdout",
     "output_type": "stream",
     "text": [
      "Hyperbolic tangents: [0.76159416 0.96402758 0.99505475 0.9993293  0.9999092  0.99998771\n",
      " 0.99999834 0.99999977 0.99999997 1.        ]\n"
     ]
    }
   ],
   "source": [
    "# 14. Compute the hyperbolic tangent of each element\n",
    "result14 = np.tanh(arr)\n",
    "print(\"Hyperbolic tangents:\", result14)\n",
    "\n"
   ]
  },
  {
   "cell_type": "code",
   "execution_count": 32,
   "id": "4871c0ae",
   "metadata": {},
   "outputs": [
    {
     "name": "stdout",
     "output_type": "stream",
     "text": [
      "Floors: [ 1.  2.  3.  4.  5.  6.  7.  8.  9. 10.]\n"
     ]
    }
   ],
   "source": [
    "# 15. Compute the floor of each element\n",
    "result15 = np.floor(arr)\n",
    "print(\"Floors:\", result15)\n",
    "\n"
   ]
  },
  {
   "cell_type": "code",
   "execution_count": 33,
   "id": "ecf741cb",
   "metadata": {},
   "outputs": [
    {
     "name": "stdout",
     "output_type": "stream",
     "text": [
      "Ceilings: [ 1.  2.  3.  4.  5.  6.  7.  8.  9. 10.]\n"
     ]
    }
   ],
   "source": [
    "# 16. Compute the ceiling of each element\n",
    "result16 = np.ceil(arr)\n",
    "print(\"Ceilings:\", result16)\n",
    "\n"
   ]
  },
  {
   "cell_type": "code",
   "execution_count": 34,
   "id": "80b15e46",
   "metadata": {},
   "outputs": [
    {
     "name": "stdout",
     "output_type": "stream",
     "text": [
      "Rounded: [ 1  2  3  4  5  6  7  8  9 10]\n"
     ]
    }
   ],
   "source": [
    "# 17. Round elements to the nearest integer\n",
    "result17 = np.round(arr)\n",
    "print(\"Rounded:\", result17)\n"
   ]
  },
  {
   "cell_type": "code",
   "execution_count": 35,
   "id": "055afc53",
   "metadata": {},
   "outputs": [
    {
     "name": "stdout",
     "output_type": "stream",
     "text": [
      "Is NaN: [False False False False False False False False False False]\n"
     ]
    }
   ],
   "source": [
    "# 18. Returns a boolean array indicating whether each value is NaN (Not a Number)\n",
    "result18 = np.isnan(arr)\n",
    "print(\"Is NaN:\", result18)\n",
    "\n"
   ]
  },
  {
   "cell_type": "code",
   "execution_count": 36,
   "id": "b9c812c8",
   "metadata": {},
   "outputs": [
    {
     "name": "stdout",
     "output_type": "stream",
     "text": [
      "Is Infinite: [False False False False False False False False False False]\n"
     ]
    }
   ],
   "source": [
    "# 19. Returns a boolean array indicating whether each value is infinite\n",
    "result19 = np.isinf(arr)\n",
    "print(\"Is Infinite:\", result19)\n"
   ]
  },
  {
   "cell_type": "code",
   "execution_count": 37,
   "id": "8238831f",
   "metadata": {},
   "outputs": [],
   "source": [
    "# 20. Returns a boolean array indicating whether each value is finite\n",
    "result20 = np.isfinite(arr)"
   ]
  },
  {
   "cell_type": "code",
   "execution_count": null,
   "id": "13eee23e",
   "metadata": {},
   "outputs": [],
   "source": []
  }
 ],
 "metadata": {
  "kernelspec": {
   "display_name": "Python 3 (ipykernel)",
   "language": "python",
   "name": "python3"
  },
  "language_info": {
   "codemirror_mode": {
    "name": "ipython",
    "version": 3
   },
   "file_extension": ".py",
   "mimetype": "text/x-python",
   "name": "python",
   "nbconvert_exporter": "python",
   "pygments_lexer": "ipython3",
   "version": "3.9.12"
  }
 },
 "nbformat": 4,
 "nbformat_minor": 5
}
